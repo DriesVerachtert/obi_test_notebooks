{
 "cells": [
  {
   "cell_type": "code",
   "execution_count": 2,
   "id": "1340be71-f411-4828-a0d5-c50cb2394a6c",
   "metadata": {},
   "outputs": [
    {
     "name": "stdout",
     "output_type": "stream",
     "text": [
      "Environment variable OBI_TEST has value BLA\n"
     ]
    }
   ],
   "source": [
    "import os\n",
    "for env_key in os.environ:\n",
    "    if env_key.startswith(\"OBI\"):\n",
    "        print(f\"Environment variable {env_key} has value {os.environ[env_key]}\")"
   ]
  },
  {
   "cell_type": "code",
   "execution_count": null,
   "id": "79ebf1af-aef4-40cb-9122-3932d29fb138",
   "metadata": {},
   "outputs": [],
   "source": []
  },
  {
   "cell_type": "code",
   "execution_count": null,
   "id": "58af30b3-717f-458b-9452-7849a418705f",
   "metadata": {},
   "outputs": [],
   "source": []
  }
 ],
 "metadata": {
  "kernelspec": {
   "display_name": "Python 3 (ipykernel)",
   "language": "python",
   "name": "python3"
  },
  "language_info": {
   "codemirror_mode": {
    "name": "ipython",
    "version": 3
   },
   "file_extension": ".py",
   "mimetype": "text/x-python",
   "name": "python",
   "nbconvert_exporter": "python",
   "pygments_lexer": "ipython3",
   "version": "3.13.5"
  }
 },
 "nbformat": 4,
 "nbformat_minor": 5
}
