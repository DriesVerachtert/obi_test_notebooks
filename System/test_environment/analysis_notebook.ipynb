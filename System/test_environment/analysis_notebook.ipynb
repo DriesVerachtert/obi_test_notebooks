{
 "cells": [
  {
   "cell_type": "code",
   "execution_count": null,
   "id": "1340be71-f411-4828-a0d5-c50cb2394a6c",
   "metadata": {},
   "outputs": [],
   "source": [
    "import os\n",
    "import pandas\n",
    "data = {k: v for k,v in os.environ.items() if k.startswith(\"OBI\")}\n",
    "pandas.DataFrame(list(data.items()), columns=[\"Env var\", \"Value\"])"
   ]
  },
  {
   "cell_type": "code",
   "execution_count": null,
   "id": "79ebf1af-aef4-40cb-9122-3932d29fb138",
   "metadata": {},
   "outputs": [],
   "source": [
    "from entitysdk.client import Client\n",
    "from entitysdk.models.circuit import Circuit\n",
    "\n",
    "client = Client(environment=\"staging\", token_manager=os.environ[\"OBI_ACCESS_TOKEN\"])\n",
    "for circuit in client.search_entity(entity_type=Circuit, limit=20):\n",
    "    print(f\"Found some circuit with subject name {circuit.subject.name} and {circuit.number_neurons} neurons.\")"
   ]
  }
 ],
 "metadata": {
  "kernelspec": {
   "display_name": "Python 3 (ipykernel)",
   "language": "python",
   "name": "python3"
  },
  "language_info": {
   "codemirror_mode": {
    "name": "ipython",
    "version": 3
   },
   "file_extension": ".py",
   "mimetype": "text/x-python",
   "name": "python",
   "nbconvert_exporter": "python",
   "pygments_lexer": "ipython3",
   "version": "3.13.5"
  }
 },
 "nbformat": 4,
 "nbformat_minor": 5
}
